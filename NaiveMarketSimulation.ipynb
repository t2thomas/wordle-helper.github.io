{
  "nbformat": 4,
  "nbformat_minor": 0,
  "metadata": {
    "colab": {
      "provenance": [],
      "authorship_tag": "ABX9TyNYhAlpPwZv13WplC0dNA7L",
      "include_colab_link": true
    },
    "kernelspec": {
      "name": "python3",
      "display_name": "Python 3"
    },
    "language_info": {
      "name": "python"
    }
  },
  "cells": [
    {
      "cell_type": "markdown",
      "metadata": {
        "id": "view-in-github",
        "colab_type": "text"
      },
      "source": [
        "<a href=\"https://colab.research.google.com/github/t2thomas/wordle-helper.github.io/blob/main/NaiveMarketSimulation.ipynb\" target=\"_parent\"><img src=\"https://colab.research.google.com/assets/colab-badge.svg\" alt=\"Open In Colab\"/></a>"
      ]
    },
    {
      "cell_type": "code",
      "source": [
        "!pip install matplotlib"
      ],
      "metadata": {
        "colab": {
          "base_uri": "https://localhost:8080/"
        },
        "id": "S0VWAyA8coPj",
        "outputId": "575ce88f-f7dd-4a73-8617-7f089f95a529"
      },
      "execution_count": 66,
      "outputs": [
        {
          "output_type": "stream",
          "name": "stdout",
          "text": [
            "Requirement already satisfied: matplotlib in /usr/local/lib/python3.10/dist-packages (3.8.0)\n",
            "Requirement already satisfied: contourpy>=1.0.1 in /usr/local/lib/python3.10/dist-packages (from matplotlib) (1.3.1)\n",
            "Requirement already satisfied: cycler>=0.10 in /usr/local/lib/python3.10/dist-packages (from matplotlib) (0.12.1)\n",
            "Requirement already satisfied: fonttools>=4.22.0 in /usr/local/lib/python3.10/dist-packages (from matplotlib) (4.55.0)\n",
            "Requirement already satisfied: kiwisolver>=1.0.1 in /usr/local/lib/python3.10/dist-packages (from matplotlib) (1.4.7)\n",
            "Requirement already satisfied: numpy<2,>=1.21 in /usr/local/lib/python3.10/dist-packages (from matplotlib) (1.26.4)\n",
            "Requirement already satisfied: packaging>=20.0 in /usr/local/lib/python3.10/dist-packages (from matplotlib) (24.2)\n",
            "Requirement already satisfied: pillow>=6.2.0 in /usr/local/lib/python3.10/dist-packages (from matplotlib) (11.0.0)\n",
            "Requirement already satisfied: pyparsing>=2.3.1 in /usr/local/lib/python3.10/dist-packages (from matplotlib) (3.2.0)\n",
            "Requirement already satisfied: python-dateutil>=2.7 in /usr/local/lib/python3.10/dist-packages (from matplotlib) (2.8.2)\n",
            "Requirement already satisfied: six>=1.5 in /usr/local/lib/python3.10/dist-packages (from python-dateutil>=2.7->matplotlib) (1.16.0)\n"
          ]
        }
      ]
    },
    {
      "cell_type": "code",
      "source": [
        "SIM_START_TIME = \"2024-08-30 09:30:00\"\n",
        "SIM_END_TIME = \"2024-08-30 16:00:00\"\n",
        "SIM_PARAM_NUM_ORDERS = 1000\n",
        "SIM_PARAM_NUM_PARTICIPANTS = 100\n",
        "\n",
        "SIM_PRICE_START_MIDPOINT = 100\n",
        "SIM_PROB_BUY_ORDERS = 0.5\n",
        "SIM_PROB_MARKET_ORDER = 0.5"
      ],
      "metadata": {
        "id": "mjzSd0N1iyz9"
      },
      "execution_count": 67,
      "outputs": []
    },
    {
      "cell_type": "markdown",
      "source": [
        "Defining Participants, Orders, Executions"
      ],
      "metadata": {
        "id": "5xBf9EvQYojR"
      }
    },
    {
      "cell_type": "code",
      "source": [
        "class Participant:\n",
        "    def __init__(self, **kwargs):\n",
        "        \"\"\"\n",
        "        Initializes a Participant object with flexible ID handling.\n",
        "\n",
        "        Args:\n",
        "            **kwargs: Keyword arguments containing the ID information.\n",
        "                      Expected format: {'id_type': 'id_value'}\n",
        "                      e.g., {'FDID': '12345'}, {'CCID': 'ABC678'}\n",
        "        \"\"\"\n",
        "        self._ids = kwargs\n",
        "\n",
        "    def get_id(self, id_type):\n",
        "        \"\"\"\n",
        "        Returns the ID value for the specified ID side.\n",
        "\n",
        "        Args:\n",
        "            id_type (str): The side of ID to retrieve (e.g., 'FDID', 'CCID').\n",
        "\n",
        "        Returns:\n",
        "            str or None: The ID value if found, otherwise None.\n",
        "        \"\"\"\n",
        "        return self._ids.get(id_type)\n",
        "\n",
        "    def set_id(self, id_type, id_value):\n",
        "        \"\"\"\n",
        "        Sets the ID value for the specified ID side.\n",
        "\n",
        "        Args:\n",
        "            id_type (str): The type of ID to set.\n",
        "            id_value (str): The ID value to set.\n",
        "        \"\"\"\n",
        "        self._ids[id_type] = id_value\n",
        "\n",
        "    def has_id_type(self, id_type):\n",
        "        \"\"\"\n",
        "        Checks if the Participant has an ID of the specified type.\n",
        "\n",
        "        Args:\n",
        "            id_type (str): The type of ID to check.\n",
        "\n",
        "        Returns:\n",
        "            bool: True if the ID type is present, otherwise False.\n",
        "        \"\"\"\n",
        "        return id_type in self._ids\n",
        "\n",
        "    def __str__(self):\n",
        "        return f\"Participant({self._ids})\"  # Display the entire _ids dictionary\n"
      ],
      "metadata": {
        "id": "--5srfd3iNTm"
      },
      "execution_count": 68,
      "outputs": []
    },
    {
      "cell_type": "code",
      "source": [
        "# Testing usage\n",
        "participant1 = Participant(FDID='12345')\n",
        "participant2 = Participant(CCID='ABC678')\n",
        "\n",
        "print(participant1)  # Output: Participant(IDs: {'FDID': '12345'})\n",
        "print(participant2)  # Output: Participant(IDs: {'CCID': 'ABC678'})\n",
        "\n",
        "print(participant1.get_id('FDID'))  # Output: 12345\n",
        "print(participant1.get_id('CCID'))  # Output: None\n",
        "\n",
        "participant1.set_id('CCID', 'XYZ901')\n",
        "print(participant1)  # Output: Participant(IDs: {'FDID': '12345', 'CCID': 'XYZ901'})\n",
        "\n",
        "print(participant1.has_id_type('CCID'))  # Output: True"
      ],
      "metadata": {
        "colab": {
          "base_uri": "https://localhost:8080/"
        },
        "id": "UpRNUYAdhC1e",
        "outputId": "75595358-a89d-4024-c8b0-d9a736f4e88a"
      },
      "execution_count": 69,
      "outputs": [
        {
          "output_type": "stream",
          "name": "stdout",
          "text": [
            "Participant({'FDID': '12345'})\n",
            "Participant({'CCID': 'ABC678'})\n",
            "12345\n",
            "None\n",
            "Participant({'FDID': '12345', 'CCID': 'XYZ901'})\n",
            "True\n"
          ]
        }
      ]
    },
    {
      "cell_type": "code",
      "source": [
        "from enum import Enum\n",
        "import numpy as np\n",
        "\n",
        "class OrderSide(Enum):\n",
        "  \"\"\"Enum for order types.\"\"\"\n",
        "  BUY = 'B'\n",
        "  SELL = 'S'\n",
        "  def __str__(self):\n",
        "    return self.value  # Return the enum value instead of the name\n",
        "\n",
        "class Order:\n",
        "  \"\"\"Base class for an order object.\"\"\"\n",
        "\n",
        "  def __init__(self, displayed=False, quantity=0, order_side=OrderSide.BUY, price=0.0, ts=None, symbol=\"\",participant=None):\n",
        "    \"\"\"Initializes an Order object.\n",
        "\n",
        "    Args:\n",
        "      displayed: A boolean indicating whether the order is displayed.\n",
        "      quantity: An integer representing the quantity of the order.\n",
        "      order_side: An OrderSide enum value representing the type of order (BUY or SELL).\n",
        "      price: A float representing the price of the order.\n",
        "      ts: A datetime object representing the timestamp of the order. Defaults to the current time.\n",
        "      symbol: A string representing the symbol of the instrument being ordered.\n",
        "      participant: A Participant object representing the participant who placed the order.\n",
        "    \"\"\"\n",
        "    self.displayed = displayed\n",
        "    self.quantity = quantity\n",
        "    self.order_side = order_side\n",
        "    self.price = price\n",
        "    self.ts = ts or datetime.now()\n",
        "    self.symbol = symbol\n",
        "    self.participant = participant  # Add participant attribute\n",
        "\n",
        "  def __str__(self):\n",
        "    \"\"\"String representation of the Order object.\"\"\"\n",
        "    return (f\"Order(displayed={self.displayed}, quantity={self.quantity}, \"\n",
        "            f\"order_side={self.order_side}, price={self.price}, \"  # Call str(self.order_side)\n",
        "            f\"ts={self.ts}, symbol={self.symbol}, \"\n",
        "            f\"participant={self.participant})\")  # Call str(self.participant)\n",
        "\n",
        "\n",
        "  @classmethod\n",
        "  def populate_single_random_order(cls, timestamp, participants, orderbook=None):\n",
        "      \"\"\"\n",
        "      Class method to generate a single Order instance using the provided timestamp\n",
        "      and optional orderbook, calculating the midpoint to generate the order price.\n",
        "      If orderbook is not provided, a default midpoint of 100 is used.\n",
        "\n",
        "      Args:\n",
        "          timestamp (pd.Timestamp): The timestamp to use for the order.\n",
        "          participants (list[Participant]): A list of Participant instances to choose from.\n",
        "          orderbook (Orderbook, optional): The current orderbook object. Defaults to None.\n",
        "\n",
        "      Returns:\n",
        "          Order: An Order instance.\n",
        "      \"\"\"\n",
        "      midpoint = SIM_PRICE_START_MIDPOINT  # Default midpoint\n",
        "\n",
        "      # Bernoulli(0.5) for order_side\n",
        "      order_side = OrderSide.BUY if np.random.binomial(1, SIM_PROB_BUY_ORDERS) == 1 else OrderSide.SELL\n",
        "\n",
        "      if orderbook is not None:\n",
        "          best_bid_data = orderbook.get_best_bid()\n",
        "          best_offer_data = orderbook.get_best_offer()\n",
        "\n",
        "          if best_offer_data and best_bid_data:\n",
        "            midpoint = (best_offer_data['price'] + best_bid_data['price'])/2\n",
        "\n",
        "          at_market_price = np.random.binomial(1, SIM_PROB_MARKET_ORDER) == 1\n",
        "          if best_offer_data is not None and order_side == OrderSide.BUY:\n",
        "            price = best_offer_data['price'] if at_market_price \\\n",
        "                                            else best_offer_data['price'] + np.random.normal(0,1)\n",
        "            price = max(1, price)  # Ensure price is not negative\n",
        "          elif best_bid_data is not None and order_side == OrderSide.SELL:\n",
        "            price = best_bid_data['price'] if at_market_price \\\n",
        "                                            else best_bid_data['price'] + np.random.normal(0,1)\n",
        "          else:\n",
        "            price = midpoint + np.random.normal(0, 1)\n",
        "      else:\n",
        "          price = midpoint + np.random.normal(0, 1)\n",
        "\n",
        "      displayed = np.random.binomial(1, 0.01) == 1  # Bernoulli(0.01) for displayed\n",
        "      quantity = max(1, np.random.poisson(10))  # Poisson(10) for quantity\n",
        "\n",
        "      # Choose a random participant from the list\n",
        "      participant = np.random.choice(participants)\n",
        "\n",
        "      # Create and return an Order instance using cls\n",
        "      return cls(displayed=displayed, quantity=quantity, order_side=order_side,\n",
        "                  price=price, ts=timestamp, symbol='TSLA', participant=participant)"
      ],
      "metadata": {
        "id": "riJhA_ykYpQu"
      },
      "execution_count": 70,
      "outputs": []
    },
    {
      "cell_type": "code",
      "source": [
        "class NBBOChange:\n",
        "    \"\"\"Represents a change in the National Best Bid and Offer (NBBO).\"\"\"\n",
        "\n",
        "    def __init__(self, best_bid, best_offer, timestamp=None):\n",
        "        \"\"\"\n",
        "        Initializes an NBBOChange object.\n",
        "\n",
        "        Args:\n",
        "            best_bid (float or None): The best bid price after the change.\n",
        "            best_offer (float or None): The best offer price after the change.\n",
        "            timestamp (datetime, optional): The timestamp of the NBBO change.\n",
        "                                            Defaults to the current time.\n",
        "        \"\"\"\n",
        "        self.best_bid = best_bid\n",
        "        self.best_offer = best_offer\n",
        "        self.timestamp = timestamp or datetime.now()  # Use current time if not provided\n"
      ],
      "metadata": {
        "id": "wNqldHqM0SVE"
      },
      "execution_count": 71,
      "outputs": []
    },
    {
      "cell_type": "code",
      "source": [
        "from enum import Enum\n",
        "from datetime import datetime\n",
        "\n",
        "#class Liquidity(Enum):\n",
        "#  \"\"\"Enum for liquidity sides.\"\"\"\n",
        "#  TAKING = 'taking'\n",
        "#  PROVIDING = 'providing'\n",
        "#  def __str__(self):\n",
        "#    return self.value  # Return the enum value instead of the name\n",
        "\n",
        "class Execution:\n",
        "  \"\"\"Class for an execution object.\"\"\"\n",
        "\n",
        "  def __init__(self, quantity=0, price=0.0, ts=None, symbol=\"\", buyside_participant = None, sellside_participant=None):\n",
        "      \"\"\"Initializes an Execution object.\n",
        "\n",
        "      Args:\n",
        "        quantity: An integer representing the quantity of the execution.\n",
        "        price: A float representing the price of the execution.\n",
        "        ts: A datetime object representing the timestamp of the execution. Defaults to the current time.\n",
        "        symbol: A string representing the symbol of the executed instrument.\n",
        "        buyside_participant = Participant object representing the buy side participant.\n",
        "        sellside_participant = Participant object representing the sell side participant.\n",
        "      \"\"\"\n",
        "      self.quantity = quantity\n",
        "      self.price = price\n",
        "      self.ts = ts or datetime.now()\n",
        "      self.symbol = symbol\n",
        "      self.buyside_participant = buyside_participant\n",
        "      self.sellside_participant = sellside_participant\n",
        "\n",
        "  def __str__(self):\n",
        "      \"\"\"Returns a string representation of the Execution object.\"\"\"\n",
        "      return f\"Execution(ts={self.ts}, price={self.price}, quantity={self.quantity}, buyer_id={self.buyer_id}, seller_id={self.seller_id})\""
      ],
      "metadata": {
        "id": "xK6-VU4Iaafb"
      },
      "execution_count": 72,
      "outputs": []
    },
    {
      "cell_type": "markdown",
      "source": [
        "Create OrderBook"
      ],
      "metadata": {
        "id": "_aM8p9sopW1l"
      }
    },
    {
      "cell_type": "code",
      "source": [
        "class Orderbook:\n",
        "    \"\"\"Represents an order book snapshot.\"\"\"\n",
        "\n",
        "    def __init__(self, ts=None, entries=None):\n",
        "        \"\"\"\n",
        "        Initializes an Orderbook object.\n",
        "\n",
        "        Args:\n",
        "            ts (datetime, optional): Timestamp of the order book snapshot. Defaults to current time.\n",
        "            entries (list[dict], optional): List of order book entries. Defaults to an empty list.\n",
        "                Each entry is a dictionary with the following keys:\n",
        "                    - 'price' (float): The price level.\n",
        "                    - 'orders' (list[dict]): A list of orders at that price level.\n",
        "                        Each order is a dictionary with the following keys:\n",
        "                            - 'participant' (Participant): The participant who placed the order.\n",
        "                            - 'quantity' (int): The quantity of the order.\n",
        "                            - 'order_reference' (Order): A pointer to the Order object.\n",
        "        \"\"\"\n",
        "        self.ts = ts # Not optional, must be provided\n",
        "        self.entries = entries or []\n",
        "        self.sort_entries()\n",
        "\n",
        "    @classmethod\n",
        "    def from_order(cls, order):\n",
        "        \"\"\"\n",
        "        Creates an Orderbook object from an initial Order object.\n",
        "\n",
        "        Args:\n",
        "            order (Order): The initial order to populate the order book with.\n",
        "\n",
        "        Returns:\n",
        "            Orderbook: An Orderbook object initialized with the given order.\n",
        "        \"\"\"\n",
        "        return cls(\n",
        "            ts=order.ts,  # Use the order's timestamp\n",
        "            entries=[\n",
        "                {\n",
        "                    'price': order.price,\n",
        "                    'orders': [\n",
        "                        {\n",
        "                            'participant': order.participant,\n",
        "                            'quantity': order.quantity,\n",
        "                            'order_reference': order\n",
        "                        }\n",
        "                    ]\n",
        "                }\n",
        "            ]\n",
        "        )\n",
        "\n",
        "    def sort_entries(self):\n",
        "        \"\"\"Sorts the entries in the order book based on price and order side.\"\"\"\n",
        "        self.entries.sort(key=lambda entry: (entry['price'] if any(order_dict['order_reference'].order_side == OrderSide.BUY\n",
        "                                                                     for order_dict in entry['orders'])\n",
        "                                                else -entry['price']), reverse=True)\n",
        "\n",
        "    def add_order(self, order):\n",
        "        \"\"\"\n",
        "        Adds an Order object to the order book and resolves any resulting executions.\n",
        "\n",
        "        Args:\n",
        "            order (Order): The Order object to add.\n",
        "\n",
        "        Returns:\n",
        "            tuple: A tuple containing the list of Execution objects and\n",
        "                   an NBBOChange object (or None if NBBO didn't change).\n",
        "        \"\"\"\n",
        "        self.ts = order.ts  # Update the timestamp\n",
        "        # Add the order to the order book\n",
        "        entry_found = False\n",
        "        for entry in self.entries:\n",
        "            if entry['price'] == order.price:\n",
        "                entry['orders'].append({\n",
        "                    'participant': order.participant,\n",
        "                    'quantity': order.quantity,\n",
        "                    'order_reference': order\n",
        "                })\n",
        "                entry_found = True\n",
        "                break\n",
        "\n",
        "        if not entry_found:\n",
        "            self.entries.append({\n",
        "                'price': order.price,\n",
        "                'orders': [\n",
        "                    {\n",
        "                        'participant': order.participant,\n",
        "                        'quantity': order.quantity,\n",
        "                        'order_reference': order\n",
        "                    }\n",
        "                ]\n",
        "            })\n",
        "        self.sort_entries()\n",
        "\n",
        "        # Resolve executions\n",
        "        executions = self.resolve_executions(order.ts)  # Call resolve_executions to handle executions\n",
        "\n",
        "        # Check if NBBO changed and create NBBOChange object, handle None cases\n",
        "        best_bid = self.get_best_bid()\n",
        "        best_offer = self.get_best_offer()\n",
        "\n",
        "        # Check if best_bid or best_offer is None before accessing 'price'\n",
        "        bid_price = best_bid['price'] if best_bid else None\n",
        "        offer_price = best_offer['price'] if best_offer else None\n",
        "\n",
        "        nbbo_change = NBBOChange(bid_price, offer_price, timestamp=order.ts)\n",
        "\n",
        "        return executions, nbbo_change\n",
        "\n",
        "    def get_best_bid(self):\n",
        "        \"\"\"\n",
        "        Returns the best bid price and quantity in the order book.\n",
        "\n",
        "        Returns:\n",
        "            dict or None: A dictionary containing the best bid price and quantity,\n",
        "                          or None if no bids are found.\n",
        "                          Format: {'price': float, 'quantity': int}\n",
        "        \"\"\"\n",
        "        # Directly access the first entry for the best bid (as entries are sorted)\n",
        "        for entry in self.entries:\n",
        "            if any(order_dict['order_reference'].order_side == OrderSide.BUY\n",
        "                  for order_dict in entry['orders']):\n",
        "                best_bid_price = entry['price']\n",
        "                best_bid_quantity = sum(order_dict['quantity']\n",
        "                                        for order_dict in entry['orders']\n",
        "                                        if order_dict['order_reference'].order_side == OrderSide.BUY)\n",
        "                return {'price': best_bid_price, 'quantity': best_bid_quantity}\n",
        "\n",
        "        return None  # No bid prices found\n",
        "\n",
        "    def get_best_offer(self):\n",
        "        \"\"\"\n",
        "        Returns the best offer price and quantity in the order book.\n",
        "\n",
        "        Returns:\n",
        "            dict or None: A dictionary containing the best offer price and quantity,\n",
        "                          or None if no offers are found.\n",
        "                          Format: {'price': float, 'quantity': int}\n",
        "        \"\"\"\n",
        "        # Directly access the first entry for the best offer (as entries are sorted)\n",
        "        for entry in self.entries:\n",
        "            if any(order_dict['order_reference'].order_side == OrderSide.SELL\n",
        "                  for order_dict in entry['orders']):\n",
        "                best_offer_price = entry['price']\n",
        "                best_offer_quantity = sum(order_dict['quantity']\n",
        "                                        for order_dict in entry['orders']\n",
        "                                        if order_dict['order_reference'].order_side == OrderSide.SELL)\n",
        "                return {'price': best_offer_price, 'quantity': best_offer_quantity}\n",
        "\n",
        "        return None  # No offer prices found\n",
        "\n",
        "    def resolve_executions(self, execution_timestamp):\n",
        "        \"\"\"\n",
        "        Resolves executions based on best bid and offer prices and quantities,\n",
        "        prioritizing earlier orders.\n",
        "\n",
        "        Returns:\n",
        "            list[Execution]: A list of Execution objects representing the executed trades.\n",
        "        \"\"\"\n",
        "        executions = []\n",
        "        while self._is_executable(self.get_best_bid(), self.get_best_offer()):\n",
        "            executions.extend(self._execute_orders(execution_timestamp))\n",
        "        return executions\n",
        "\n",
        "    def _is_executable(self, best_bid_data, best_offer_data):\n",
        "        \"\"\"Helper function to check if an execution is possible.\"\"\"\n",
        "        return (best_bid_data is not None and\n",
        "                best_offer_data is not None and\n",
        "                best_bid_data['price'] >= best_offer_data['price'])\n",
        "\n",
        "    def _execute_orders(self, execution_timestamp):\n",
        "        \"\"\"Helper function to execute orders and create Execution objects.\"\"\"\n",
        "        best_bid_data = self.get_best_bid()\n",
        "        best_offer_data = self.get_best_offer()\n",
        "\n",
        "        if best_bid_data is None or best_offer_data is None:\n",
        "            return []  # No executable orders\n",
        "\n",
        "        best_bid_price = best_bid_data['price']\n",
        "        best_offer_price = best_offer_data['price']\n",
        "\n",
        "        executions = []\n",
        "        remaining_bid_quantity = best_bid_data['quantity']\n",
        "        remaining_offer_quantity = best_offer_data['quantity']\n",
        "\n",
        "        # Iterate through sorted entries for bids and offers\n",
        "        for bid_entry in self.entries:\n",
        "            if bid_entry['price'] == best_bid_price:\n",
        "                for bid_order_dict in bid_entry['orders']:\n",
        "                    if remaining_bid_quantity == 0 or remaining_offer_quantity == 0:\n",
        "                        break  # No more executions possible\n",
        "\n",
        "                    if bid_order_dict['order_reference'].order_side != OrderSide.BUY:\n",
        "                        continue  # Skip non-buy orders in this entry\n",
        "\n",
        "                    for offer_entry in self.entries:\n",
        "                        if offer_entry['price'] == best_offer_price:\n",
        "                            for offer_order_dict in offer_entry['orders']:\n",
        "                                if remaining_bid_quantity == 0 or remaining_offer_quantity == 0:\n",
        "                                    break  # No more executions possible\n",
        "\n",
        "                                if offer_order_dict['order_reference'].order_side != OrderSide.SELL:\n",
        "                                    continue  # Skip non-sell orders in this entry\n",
        "\n",
        "                                bid_order = bid_order_dict['order_reference']\n",
        "                                offer_order = offer_order_dict['order_reference']\n",
        "\n",
        "                                # Execution logic (same as before)\n",
        "                                execution_price = offer_order.price if bid_order.ts > offer_order.ts else bid_order.price\n",
        "                                execution_quantity = min(bid_order.quantity, offer_order.quantity, remaining_bid_quantity, remaining_offer_quantity)\n",
        "\n",
        "                                execution = Execution(\n",
        "                                    quantity=execution_quantity,\n",
        "                                    price=execution_price,\n",
        "                                    ts=execution_timestamp,\n",
        "                                    symbol=bid_order.symbol,\n",
        "                                    buyside_participant=bid_order.participant,\n",
        "                                    sellside_participant=offer_order.participant\n",
        "                                )\n",
        "                                executions.append(execution)\n",
        "\n",
        "                                bid_order.quantity -= execution_quantity\n",
        "                                offer_order.quantity -= execution_quantity\n",
        "                                remaining_bid_quantity -= execution_quantity\n",
        "                                remaining_offer_quantity -= execution_quantity\n",
        "\n",
        "                                if bid_order.quantity == 0:\n",
        "                                    self._remove_order(bid_order_dict, best_bid_price)\n",
        "                                if offer_order.quantity == 0:\n",
        "                                    self._remove_order(offer_order_dict, best_offer_price)\n",
        "\n",
        "        self._remove_empty_price_levels()\n",
        "        return executions\n",
        "\n",
        "    def _get_sorted_orders(self, price, order_side):\n",
        "        \"\"\"Helper function to get sorted orders for a given price and order side.\"\"\"\n",
        "        return sorted([order_dict for entry in self.entries\n",
        "                       for order_dict in entry['orders']\n",
        "                       if entry['price'] == price and order_dict['order_reference'].order_side == order_side],\n",
        "                      key=lambda order_dict: order_dict['order_reference'].ts)\n",
        "\n",
        "    def _remove_order(self, order_dict, price):\n",
        "        \"\"\"Helper function to remove an order from the order book.\"\"\"\n",
        "        for entry in self.entries:\n",
        "            if entry['price'] == price and order_dict in entry['orders']:\n",
        "                entry['orders'].remove(order_dict)\n",
        "                break\n",
        "\n",
        "    def _remove_empty_price_levels(self):\n",
        "        \"\"\"Helper function to remove empty price levels from the order book.\"\"\"\n",
        "        self.entries = [entry for entry in self.entries if entry['orders']]  # Remove empty price levels\n"
      ],
      "metadata": {
        "id": "H71w68SZpVvy"
      },
      "execution_count": 73,
      "outputs": []
    },
    {
      "cell_type": "markdown",
      "source": [
        "Generate random order time stamps within a day.\n",
        "\n"
      ],
      "metadata": {
        "id": "qNZbETq7bND3"
      }
    },
    {
      "cell_type": "code",
      "source": [],
      "metadata": {
        "id": "DtvvLDQE0QH7"
      },
      "execution_count": 73,
      "outputs": []
    },
    {
      "cell_type": "code",
      "source": [
        "\n",
        "import pandas as pd\n",
        "import numpy as np\n",
        "import matplotlib.pyplot as plt\n",
        "\n",
        "\n",
        "# Define the start and end times\n",
        "start_time = pd.to_datetime(SIM_START_TIME, format=\"%Y-%m-%d %H:%M:%S\").tz_localize(\"US/Eastern\")\n",
        "end_time = pd.to_datetime(SIM_END_TIME, format=\"%Y-%m-%d %H:%M:%S\").tz_localize(\"US/Eastern\")\n",
        "\n",
        "# Generate 10000 random timestamps between the start and end times\n",
        "random_numbers = np.random.uniform(size=SIM_PARAM_NUM_ORDERS)\n",
        "time_range = end_time.value - start_time.value\n",
        "random_timestamps = pd.to_datetime(start_time.value + random_numbers * time_range, utc=True).tz_convert(\"US/Eastern\")\n",
        "\n",
        "# Sort the timestamps\n",
        "sorted_timestamps = random_timestamps.sort_values()"
      ],
      "metadata": {
        "id": "tUPW9XbmawCd"
      },
      "execution_count": 74,
      "outputs": []
    },
    {
      "cell_type": "code",
      "source": [
        "import uuid\n",
        "\n",
        "# Create a list of 100 random participants with UUIDs\n",
        "participants = [Participant(CCID=str(uuid.uuid4().hex)) for _ in range(SIM_PARAM_NUM_PARTICIPANTS)]"
      ],
      "metadata": {
        "id": "QlWeesMbm9TN"
      },
      "execution_count": 75,
      "outputs": []
    },
    {
      "cell_type": "code",
      "source": [
        "# Assuming you have a single timestamp in the variable 'timestamp'\n",
        "initial_order = Order.populate_single_random_order(sorted_timestamps[1], participants)\n",
        "\n",
        "# Now you can use the 'initial_order' object\n",
        "print(initial_order)"
      ],
      "metadata": {
        "colab": {
          "base_uri": "https://localhost:8080/"
        },
        "id": "l_czZ30GpQMv",
        "outputId": "4c4f094c-0ebf-4750-f5cd-500782e27260"
      },
      "execution_count": 76,
      "outputs": [
        {
          "output_type": "stream",
          "name": "stdout",
          "text": [
            "Order(displayed=False, quantity=9, order_side=S, price=101.22401717728818, ts=2024-08-30 09:30:38.106748416-04:00, symbol=TSLA, participant=Participant({'CCID': '30710b4376184a17b43cc72420f51ccf'}))\n"
          ]
        }
      ]
    },
    {
      "cell_type": "code",
      "source": [
        "# Create an Orderbook object using the from_order constructor\n",
        "prev_orderbook = Orderbook.from_order(initial_order)\n",
        "prev_orderbook.get_best_bid() , prev_orderbook.get_best_offer()"
      ],
      "metadata": {
        "colab": {
          "base_uri": "https://localhost:8080/"
        },
        "id": "2U26LDURrIRE",
        "outputId": "fdf8b685-8a48-4f06-ffdf-c6c198ded83b"
      },
      "execution_count": 77,
      "outputs": [
        {
          "output_type": "execute_result",
          "data": {
            "text/plain": [
              "(None, {'price': 101.22401717728818, 'quantity': 9})"
            ]
          },
          "metadata": {},
          "execution_count": 77
        }
      ]
    },
    {
      "cell_type": "code",
      "source": [
        "import copy\n",
        "\n",
        "executions = []\n",
        "nbbo_changes = []\n",
        "orderbooks = [prev_orderbook]\n",
        "orders = [initial_order]\n",
        "\n",
        "for timestamp in sorted_timestamps[1:]:\n",
        "    order = Order.populate_single_random_order(timestamp, participants, prev_orderbook)\n",
        "\n",
        "    orderbook = copy.deepcopy(prev_orderbook)\n",
        "    resolved_executions, nbbo_change = orderbook.add_order(order)\n",
        "\n",
        "    orders.append(order)\n",
        "    orderbooks.append(orderbook)\n",
        "    nbbo_changes.append(nbbo_change)\n",
        "    executions.extend(resolved_executions)\n",
        "\n",
        "    prev_orderbook = orderbook"
      ],
      "metadata": {
        "id": "8fjYU7H5hW-r"
      },
      "execution_count": 78,
      "outputs": []
    },
    {
      "cell_type": "markdown",
      "source": [],
      "metadata": {
        "id": "DO4XUWSMmLN4"
      }
    },
    {
      "cell_type": "code",
      "source": [
        "def display_time_range(orders, executions, nbbo_changes, start_time_str, end_time_str):\n",
        "    \"\"\"\n",
        "    Displays Order, Execution, and NBBOChange objects within a time range.\n",
        "\n",
        "    Args:\n",
        "        orders (list[Order]): List of Order objects.\n",
        "        executions (list[Execution]): List of Execution objects.\n",
        "        nbbo_changes (list[NBBOChange]): List of NBBOChange objects.\n",
        "        start_time_str (str): Start time in \"YYYY-MM-DD HH:MM:SS\" format.\n",
        "        end_time_str (str): End time in \"YYYY-MM-DD HH:MM:SS\" format.\n",
        "    \"\"\"\n",
        "    start_time = pd.Timestamp(start_time_str, tz='US/Eastern')\n",
        "    end_time = pd.Timestamp(end_time_str, tz='US/Eastern')\n",
        "\n",
        "    # Filter objects within the time range\n",
        "    filtered_orders = [order for order in orders if start_time <= order.ts <= end_time]\n",
        "    filtered_executions = [execution for execution in executions if start_time <= execution.ts <= end_time]\n",
        "    filtered_nbbo_changes = [nbbo_change for nbbo_change in nbbo_changes\n",
        "                             if start_time <= nbbo_change.timestamp <= end_time]\n",
        "\n",
        "    # Create the plot\n",
        "    plt.figure(figsize=(12, 6))\n",
        "\n",
        "    # Plot NBBO changes\n",
        "    bid_timestamps = [nbbo_change.timestamp for nbbo_change in filtered_nbbo_changes\n",
        "                      if nbbo_change.best_bid is not None]\n",
        "    bid_prices = [nbbo_change.best_bid for nbbo_change in filtered_nbbo_changes\n",
        "                  if nbbo_change.best_bid is not None]\n",
        "    plt.plot(bid_timestamps, bid_prices, '-', color='lightgreen', label='Best Bid', drawstyle='steps-post')\n",
        "\n",
        "    offer_timestamps = [nbbo_change.timestamp for nbbo_change in filtered_nbbo_changes\n",
        "                       if nbbo_change.best_offer is not None]\n",
        "    offer_prices = [nbbo_change.best_offer for nbbo_change in filtered_nbbo_changes\n",
        "                    if nbbo_change.best_offer is not None]\n",
        "    plt.plot(offer_timestamps, offer_prices, '-', color='pink', label='Best Offer', drawstyle='steps-post')\n",
        "\n",
        "    # Plot orders\n",
        "    buy_orders = [order for order in filtered_orders if order.order_side == OrderSide.BUY]\n",
        "    plt.plot([order.ts for order in buy_orders], [order.price for order in buy_orders],\n",
        "             '^', markersize=8, color='green', label='Buy')\n",
        "    sell_orders = [order for order in filtered_orders if order.order_side == OrderSide.SELL]\n",
        "    plt.plot([order.ts for order in sell_orders], [order.price for order in sell_orders],\n",
        "             'v', markersize=8, color='red', label='Sell')\n",
        "\n",
        "    # Plot executions\n",
        "    plt.plot([execution.ts for execution in filtered_executions],\n",
        "             [execution.price for execution in filtered_executions],\n",
        "             'x', markersize=8, color='black', label='Execution', alpha = 0.6)\n",
        "\n",
        "\n",
        "\n",
        "    # Set plot details\n",
        "    plt.title(f\"Orders, Executions, and NBBO Changes from {start_time_str} to {end_time_str}\")\n",
        "    plt.xlabel(\"Time\")\n",
        "    plt.ylabel(\"Price\")\n",
        "    plt.xticks(rotation=45, ha='right')\n",
        "    plt.legend()\n",
        "    plt.tight_layout()\n",
        "    plt.show()"
      ],
      "metadata": {
        "id": "U2g6h0Scbbu2"
      },
      "execution_count": 79,
      "outputs": []
    },
    {
      "cell_type": "code",
      "source": [
        "# Example usage\n",
        "#orders = populate_orders(sorted_timestamps)\n",
        "display_time_range(orders, executions, nbbo_changes, \"2024-08-30 10:10:00\", \"2024-08-30 10:15:00\")"
      ],
      "metadata": {
        "colab": {
          "base_uri": "https://localhost:8080/",
          "height": 413
        },
        "id": "LP6lgHLKc47r",
        "outputId": "f3f22824-a776-4b44-b960-28f47f9d60f2"
      },
      "execution_count": 80,
      "outputs": [
        {
          "output_type": "display_data",
          "data": {
            "text/plain": [
              "<Figure size 1200x600 with 1 Axes>"
            ],
            "image/png": "[encoded data removed]"
          },
          "metadata": {}
        }
      ]
    },
    {
      "cell_type": "code",
      "source": [
        "print(orderbooks[100].ts,\n",
        "orderbooks[100].entries)"
      ],
      "metadata": {
        "colab": {
          "base_uri": "https://localhost:8080/"
        },
        "id": "a92YFqSJgii5",
        "outputId": "389c014b-fe38-4915-f04e-96b3065b0939"
      },
      "execution_count": 81,
      "outputs": [
        {
          "output_type": "stream",
          "name": "stdout",
          "text": [
            "2024-08-30 10:15:07.910984960-04:00 [{'price': 99.49813534288856, 'orders': [{'participant': <__main__.Participant object at 0x781a5bbbcb80>, 'quantity': 12, 'order_reference': <__main__.Order object at 0x781a48a9e6b0>}]}, {'price': 99.286878539267, 'orders': [{'participant': <__main__.Participant object at 0x781a48a9f760>, 'quantity': 9, 'order_reference': <__main__.Order object at 0x781a48a9ff10>}]}, {'price': 99.19101832576885, 'orders': [{'participant': <__main__.Participant object at 0x781a48a9fd90>, 'quantity': 9, 'order_reference': <__main__.Order object at 0x781a48a9cdc0>}]}, {'price': 98.71607757255752, 'orders': [{'participant': <__main__.Participant object at 0x781a48a9d990>, 'quantity': 6, 'order_reference': <__main__.Order object at 0x781a48a9d2d0>}]}, {'price': 96.69867221198542, 'orders': [{'participant': <__main__.Participant object at 0x781a48a9e500>, 'quantity': 11, 'order_reference': <__main__.Order object at 0x781a48a9d510>}]}, {'price': 96.2558269725453, 'orders': [{'participant': <__main__.Participant object at 0x781a48a9f040>, 'quantity': 5, 'order_reference': <__main__.Order object at 0x781a48a9c760>}]}, {'price': 99.50457734121886, 'orders': [{'participant': <__main__.Participant object at 0x781a48a9e5c0>, 'quantity': 8, 'order_reference': <__main__.Order object at 0x781a48a9fb80>}]}, {'price': 99.5384775312372, 'orders': [{'participant': <__main__.Participant object at 0x781a48a9d420>, 'quantity': 8, 'order_reference': <__main__.Order object at 0x781a48a9ebc0>}]}, {'price': 99.57212845635698, 'orders': [{'participant': <__main__.Participant object at 0x781a48a9d7b0>, 'quantity': 10, 'order_reference': <__main__.Order object at 0x781a48a9dc30>}]}, {'price': 99.85781403330566, 'orders': [{'participant': <__main__.Participant object at 0x781a48a9eda0>, 'quantity': 11, 'order_reference': <__main__.Order object at 0x781a48a9cd30>}]}, {'price': 99.95513708328998, 'orders': [{'participant': <__main__.Participant object at 0x781a48a9f0d0>, 'quantity': 6, 'order_reference': <__main__.Order object at 0x781a48a9fcd0>}]}, {'price': 99.97106366343726, 'orders': [{'participant': <__main__.Participant object at 0x781a48a9ffa0>, 'quantity': 8, 'order_reference': <__main__.Order object at 0x781a48a9eb90>}]}, {'price': 100.27089734115575, 'orders': [{'participant': <__main__.Participant object at 0x781a48a9ece0>, 'quantity': 9, 'order_reference': <__main__.Order object at 0x781a48a9ca00>}]}, {'price': 100.96294179361243, 'orders': [{'participant': <__main__.Participant object at 0x781a48a9c370>, 'quantity': 8, 'order_reference': <__main__.Order object at 0x781a48a9c910>}]}, {'price': 101.06554202802278, 'orders': [{'participant': <__main__.Participant object at 0x781a48a9c970>, 'quantity': 4, 'order_reference': <__main__.Order object at 0x781a48a9c310>}]}, {'price': 101.1533774976436, 'orders': [{'participant': <__main__.Participant object at 0x781a48a9cc10>, 'quantity': 10, 'order_reference': <__main__.Order object at 0x781a48a9d900>}]}, {'price': 101.20325306347145, 'orders': [{'participant': <__main__.Participant object at 0x781a48a9d480>, 'quantity': 8, 'order_reference': <__main__.Order object at 0x781a48a9e470>}]}, {'price': 101.22401717728818, 'orders': [{'participant': <__main__.Participant object at 0x781a48a9ded0>, 'quantity': 9, 'order_reference': <__main__.Order object at 0x781a48a9efb0>}]}, {'price': 101.2572852292667, 'orders': [{'participant': <__main__.Participant object at 0x781a48a9e980>, 'quantity': 8, 'order_reference': <__main__.Order object at 0x781a48a9fdf0>}]}, {'price': 101.43107791638812, 'orders': [{'participant': <__main__.Participant object at 0x781a48a9f400>, 'quantity': 8, 'order_reference': <__main__.Order object at 0x781a48a9fd30>}]}, {'price': 101.46107602420346, 'orders': [{'participant': <__main__.Participant object at 0x781a48a9d2a0>, 'quantity': 9, 'order_reference': <__main__.Order object at 0x781a48a9ec50>}]}, {'price': 101.49296676308722, 'orders': [{'participant': <__main__.Participant object at 0x781a48a9ff70>, 'quantity': 10, 'order_reference': <__main__.Order object at 0x781a48a9fee0>}]}, {'price': 101.6506085406749, 'orders': [{'participant': <__main__.Participant object at 0x781a48a9ec20>, 'quantity': 6, 'order_reference': <__main__.Order object at 0x781a48a9fb50>}]}]\n"
          ]
        }
      ]
    }
  ]
}